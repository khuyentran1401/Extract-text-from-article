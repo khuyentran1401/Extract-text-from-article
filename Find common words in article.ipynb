{
 "cells": [
  {
   "cell_type": "markdown",
   "metadata": {},
   "source": [
    "# Python Article Libary"
   ]
  },
  {
   "cell_type": "code",
   "execution_count": 1,
   "metadata": {
    "colab": {
     "base_uri": "https://localhost:8080/",
     "height": 411
    },
    "colab_type": "code",
    "id": "ddw-PQImCqdM",
    "outputId": "004051ef-5ed2-479b-b0c3-a189fdb38197",
    "scrolled": true
   },
   "outputs": [
    {
     "name": "stdout",
     "output_type": "stream",
     "text": [
      "Requirement already satisfied: newspaper3k in ./opt/anaconda3/lib/python3.7/site-packages (0.2.8)\n",
      "Requirement already satisfied: jieba3k>=0.35.1 in ./opt/anaconda3/lib/python3.7/site-packages (from newspaper3k) (0.35.1)\n",
      "Requirement already satisfied: requests>=2.10.0 in ./opt/anaconda3/lib/python3.7/site-packages (from newspaper3k) (2.22.0)\n",
      "Requirement already satisfied: PyYAML>=3.11 in ./opt/anaconda3/lib/python3.7/site-packages (from newspaper3k) (5.1.2)\n",
      "Requirement already satisfied: cssselect>=0.9.2 in ./opt/anaconda3/lib/python3.7/site-packages (from newspaper3k) (1.1.0)\n",
      "Requirement already satisfied: tinysegmenter==0.3 in ./opt/anaconda3/lib/python3.7/site-packages (from newspaper3k) (0.3)\n",
      "Requirement already satisfied: feedparser>=5.2.1 in ./opt/anaconda3/lib/python3.7/site-packages (from newspaper3k) (5.2.1)\n",
      "Requirement already satisfied: beautifulsoup4>=4.4.1 in ./opt/anaconda3/lib/python3.7/site-packages (from newspaper3k) (4.8.0)\n",
      "Requirement already satisfied: Pillow>=3.3.0 in ./opt/anaconda3/lib/python3.7/site-packages (from newspaper3k) (6.2.0)\n",
      "Requirement already satisfied: nltk>=3.2.1 in ./opt/anaconda3/lib/python3.7/site-packages (from newspaper3k) (3.4.5)\n",
      "Requirement already satisfied: python-dateutil>=2.5.3 in ./opt/anaconda3/lib/python3.7/site-packages (from newspaper3k) (2.8.0)\n",
      "Requirement already satisfied: feedfinder2>=0.0.4 in ./opt/anaconda3/lib/python3.7/site-packages (from newspaper3k) (0.0.4)\n",
      "Requirement already satisfied: tldextract>=2.0.1 in ./opt/anaconda3/lib/python3.7/site-packages (from newspaper3k) (2.2.2)\n",
      "Requirement already satisfied: lxml>=3.6.0 in ./opt/anaconda3/lib/python3.7/site-packages (from newspaper3k) (4.4.1)\n",
      "Requirement already satisfied: chardet<3.1.0,>=3.0.2 in ./opt/anaconda3/lib/python3.7/site-packages (from requests>=2.10.0->newspaper3k) (3.0.4)\n",
      "Requirement already satisfied: idna<2.9,>=2.5 in ./opt/anaconda3/lib/python3.7/site-packages (from requests>=2.10.0->newspaper3k) (2.8)\n",
      "Requirement already satisfied: urllib3!=1.25.0,!=1.25.1,<1.26,>=1.21.1 in ./opt/anaconda3/lib/python3.7/site-packages (from requests>=2.10.0->newspaper3k) (1.24.2)\n",
      "Requirement already satisfied: certifi>=2017.4.17 in ./opt/anaconda3/lib/python3.7/site-packages (from requests>=2.10.0->newspaper3k) (2019.9.11)\n",
      "Requirement already satisfied: soupsieve>=1.2 in ./opt/anaconda3/lib/python3.7/site-packages (from beautifulsoup4>=4.4.1->newspaper3k) (1.9.3)\n",
      "Requirement already satisfied: six in ./opt/anaconda3/lib/python3.7/site-packages (from nltk>=3.2.1->newspaper3k) (1.12.0)\n",
      "Requirement already satisfied: setuptools in ./opt/anaconda3/lib/python3.7/site-packages (from tldextract>=2.0.1->newspaper3k) (41.4.0)\n",
      "Requirement already satisfied: requests-file>=1.4 in ./opt/anaconda3/lib/python3.7/site-packages (from tldextract>=2.0.1->newspaper3k) (1.4.3)\n",
      "Note: you may need to restart the kernel to use updated packages.\n"
     ]
    }
   ],
   "source": [
    "pip install newspaper3k\n"
   ]
  },
  {
   "cell_type": "code",
   "execution_count": 2,
   "metadata": {
    "colab": {},
    "colab_type": "code",
    "id": "XO8xk1g9CA2E"
   },
   "outputs": [],
   "source": [
    "from newspaper import Article\n"
   ]
  },
  {
   "cell_type": "code",
   "execution_count": 3,
   "metadata": {
    "colab": {},
    "colab_type": "code",
    "id": "66RwdFlCDKta"
   },
   "outputs": [],
   "source": [
    "url = 'https://humanparts.medium.com/im-not-weird-you-re-weird-b88bc9ed6621'"
   ]
  },
  {
   "cell_type": "code",
   "execution_count": 4,
   "metadata": {
    "colab": {},
    "colab_type": "code",
    "id": "NKxiXWplOALP"
   },
   "outputs": [],
   "source": [
    "article = Article(url)\n"
   ]
  },
  {
   "cell_type": "markdown",
   "metadata": {},
   "source": [
    "Download article"
   ]
  },
  {
   "cell_type": "code",
   "execution_count": 5,
   "metadata": {
    "colab": {},
    "colab_type": "code",
    "id": "ZbIXPYIlOKYk"
   },
   "outputs": [],
   "source": [
    "article.download()\n"
   ]
  },
  {
   "cell_type": "markdown",
   "metadata": {},
   "source": [
    "Find the publish date"
   ]
  },
  {
   "cell_type": "code",
   "execution_count": 6,
   "metadata": {
    "colab": {
     "base_uri": "https://localhost:8080/",
     "height": 34
    },
    "colab_type": "code",
    "id": "rhx0N3zrOYCc",
    "outputId": "37d6efa9-f4ca-4cec-9a32-3977e6c22b31"
   },
   "outputs": [
    {
     "data": {
      "text/plain": [
       "''"
      ]
     },
     "execution_count": 6,
     "metadata": {},
     "output_type": "execute_result"
    }
   ],
   "source": [
    "article.publish_date\n"
   ]
  },
  {
   "cell_type": "code",
   "execution_count": 7,
   "metadata": {
    "colab": {},
    "colab_type": "code",
    "id": "9OaPcoEdOWTt"
   },
   "outputs": [],
   "source": [
    "article.parse()\n"
   ]
  },
  {
   "cell_type": "code",
   "execution_count": 8,
   "metadata": {},
   "outputs": [],
   "source": [
    "text = article.text"
   ]
  },
  {
   "cell_type": "code",
   "execution_count": 9,
   "metadata": {
    "colab": {
     "base_uri": "https://localhost:8080/",
     "height": 34
    },
    "colab_type": "code",
    "id": "HVumVLwGOujl",
    "outputId": "e2ccfbc7-25eb-49c1-a308-2ee945d4a36e"
   },
   "outputs": [
    {
     "data": {
      "text/plain": [
       "'https://miro.medium.com/focal/1200/632/50/37/1*7M8X6ZbcftelY-1BRRhc6Q.jpeg'"
      ]
     },
     "execution_count": 9,
     "metadata": {},
     "output_type": "execute_result"
    }
   ],
   "source": [
    "article.top_image"
   ]
  },
  {
   "cell_type": "markdown",
   "metadata": {},
   "source": [
    "Take a look at the image"
   ]
  },
  {
   "cell_type": "code",
   "execution_count": 10,
   "metadata": {},
   "outputs": [
    {
     "data": {
      "text/html": [
       "<img src=\"https://miro.medium.com/focal/1200/632/50/37/1*7M8X6ZbcftelY-1BRRhc6Q.jpeg\"/>"
      ],
      "text/plain": [
       "<IPython.core.display.Image object>"
      ]
     },
     "execution_count": 10,
     "metadata": {},
     "output_type": "execute_result"
    }
   ],
   "source": [
    "from IPython.display import Image\n",
    "from IPython.core.display import HTML \n",
    "Image(url= \"https://miro.medium.com/focal/1200/632/50/37/1*7M8X6ZbcftelY-1BRRhc6Q.jpeg\")"
   ]
  },
  {
   "cell_type": "code",
   "execution_count": 11,
   "metadata": {},
   "outputs": [
    {
     "data": {
      "text/plain": [
       "['Ginny Hogan']"
      ]
     },
     "execution_count": 11,
     "metadata": {},
     "output_type": "execute_result"
    }
   ],
   "source": [
    "article.authors"
   ]
  },
  {
   "cell_type": "code",
   "execution_count": 12,
   "metadata": {
    "colab": {},
    "colab_type": "code",
    "id": "u610hOkiPbus"
   },
   "outputs": [],
   "source": [
    "article.nlp()\n"
   ]
  },
  {
   "cell_type": "code",
   "execution_count": 13,
   "metadata": {
    "colab": {
     "base_uri": "https://localhost:8080/",
     "height": 255
    },
    "colab_type": "code",
    "id": "vwFcdqXBPkN1",
    "outputId": "0a7a4e58-25dd-4399-d6bb-84e75dd814c8"
   },
   "outputs": [
    {
     "data": {
      "text/plain": [
       "['drink',\n",
       " 'wrong',\n",
       " 'youre',\n",
       " 'wasnt',\n",
       " 'im',\n",
       " 'know',\n",
       " 'taking',\n",
       " 'care',\n",
       " 'drinking',\n",
       " 'dont',\n",
       " 'food',\n",
       " 'weird',\n",
       " 'hard',\n",
       " 'didnt',\n",
       " 'id']"
      ]
     },
     "execution_count": 13,
     "metadata": {},
     "output_type": "execute_result"
    }
   ],
   "source": [
    "article.keywords\n"
   ]
  },
  {
   "cell_type": "code",
   "execution_count": 14,
   "metadata": {
    "colab": {
     "base_uri": "https://localhost:8080/",
     "height": 54
    },
    "colab_type": "code",
    "id": "vIioosCNPqYR",
    "outputId": "080c8f72-e7a7-477b-d0ba-f5559e820688"
   },
   "outputs": [
    {
     "data": {
      "text/plain": [
       "'I wasn’t wrong.\\nI didn’t know what the inside of my stomach looked like.\\nI don’t drink.\\nI told the aforementioned nutritionist I didn’t know how to eat.\\nI’d drink, and I’d feel good.'"
      ]
     },
     "execution_count": 14,
     "metadata": {},
     "output_type": "execute_result"
    }
   ],
   "source": [
    "article.summary\n"
   ]
  },
  {
   "cell_type": "markdown",
   "metadata": {
    "colab_type": "text",
    "id": "oi9ffX__T4Lq"
   },
   "source": [
    "# NLTK for Text Processing"
   ]
  },
  {
   "cell_type": "code",
   "execution_count": 15,
   "metadata": {
    "scrolled": true
   },
   "outputs": [
    {
     "name": "stdout",
     "output_type": "stream",
     "text": [
      "Requirement already satisfied: nltk in ./opt/anaconda3/lib/python3.7/site-packages (3.4.5)\n",
      "Requirement already satisfied: six in ./opt/anaconda3/lib/python3.7/site-packages (from nltk) (1.12.0)\n",
      "Note: you may need to restart the kernel to use updated packages.\n"
     ]
    }
   ],
   "source": [
    "pip install nltk\n"
   ]
  },
  {
   "cell_type": "code",
   "execution_count": 16,
   "metadata": {
    "colab": {},
    "colab_type": "code",
    "id": "rKgnH7fHAkKv"
   },
   "outputs": [],
   "source": [
    "import nltk\n"
   ]
  },
  {
   "cell_type": "code",
   "execution_count": 17,
   "metadata": {
    "colab": {
     "base_uri": "https://localhost:8080/",
     "height": 1000
    },
    "colab_type": "code",
    "id": "2rg0Ix29Au03",
    "outputId": "b5da554a-29ed-41a0-c03a-df66e2754e0d"
   },
   "outputs": [
    {
     "name": "stdout",
     "output_type": "stream",
     "text": [
      "showing info https://raw.githubusercontent.com/nltk/nltk_data/gh-pages/index.xml\n"
     ]
    },
    {
     "data": {
      "text/plain": [
       "True"
      ]
     },
     "execution_count": 17,
     "metadata": {},
     "output_type": "execute_result"
    }
   ],
   "source": [
    "nltk.download()\n"
   ]
  },
  {
   "cell_type": "markdown",
   "metadata": {},
   "source": [
    "Remove punctuation"
   ]
  },
  {
   "cell_type": "code",
   "execution_count": 18,
   "metadata": {
    "colab": {
     "base_uri": "https://localhost:8080/",
     "height": 54
    },
    "colab_type": "code",
    "id": "ikDqAjqUUQW-",
    "outputId": "79d47c0c-414f-4728-ed80-54376b85eed1"
   },
   "outputs": [],
   "source": [
    "from nltk.tokenize import RegexpTokenizer\n",
    "\n",
    "tokenizer = RegexpTokenizer(r'\\w+')\n",
    "text = tokenizer.tokenize(text)\n",
    "\n",
    "text = ' '.join(word for word in text)\n"
   ]
  },
  {
   "cell_type": "markdown",
   "metadata": {},
   "source": [
    "Tokenize words"
   ]
  },
  {
   "cell_type": "code",
   "execution_count": 19,
   "metadata": {
    "colab": {
     "base_uri": "https://localhost:8080/",
     "height": 54
    },
    "colab_type": "code",
    "id": "KHqcafa5Qz4t",
    "outputId": "b6280512-a2b3-4770-d976-9a5f51aac00b"
   },
   "outputs": [],
   "source": [
    "from nltk.tokenize import word_tokenize\n",
    "tokenized_word=word_tokenize(text)\n"
   ]
  },
  {
   "cell_type": "markdown",
   "metadata": {},
   "source": [
    "Lowercase"
   ]
  },
  {
   "cell_type": "code",
   "execution_count": 20,
   "metadata": {
    "colab": {},
    "colab_type": "code",
    "id": "5Njmz4GBZWYx"
   },
   "outputs": [],
   "source": [
    "tokenized_word = [word.lower() for word in tokenized_word]"
   ]
  },
  {
   "cell_type": "markdown",
   "metadata": {
    "colab_type": "text",
    "id": "fQGaU9waRTXT"
   },
   "source": [
    "Remove stopwords"
   ]
  },
  {
   "cell_type": "code",
   "execution_count": 21,
   "metadata": {
    "colab": {
     "base_uri": "https://localhost:8080/",
     "height": 54
    },
    "colab_type": "code",
    "id": "i719G8lQRWyD",
    "outputId": "537a3be8-8d40-4a2e-9097-0f2e566b3f32"
   },
   "outputs": [
    {
     "name": "stdout",
     "output_type": "stream",
     "text": [
      "{'why', 'will', \"wasn't\", 'what', 'we', 'won', 'on', 'from', 'has', 'weren', 'too', 'theirs', 'but', 'hasn', 'itself', \"that'll\", 'such', \"hadn't\", 'should', \"you'd\", 'if', 'very', 'few', 'hadn', 'himself', 'there', 'some', 'hers', 'my', \"she's\", 'into', 'the', 'themselves', 'above', 'isn', 'their', 'here', 'shan', 'up', 'me', \"hasn't\", 'own', 'once', 'by', 'y', 'she', 'that', 'all', 'herself', 'only', 'not', 'his', 're', 'myself', \"it's\", 'against', 'or', 'while', 'off', \"wouldn't\", \"shouldn't\", 'which', 'll', \"haven't\", \"you've\", 'have', \"mightn't\", 'you', 'whom', 'ourselves', 'i', 'as', \"mustn't\", 'were', \"you're\", \"didn't\", 'do', 'out', 'don', 'being', 'm', 'needn', 'had', 'between', 'most', 'during', 'both', 'ma', \"won't\", 'yourself', 'is', 'it', 'doing', 'more', 'about', \"weren't\", 'so', 'when', 'for', 'to', 'an', 'and', \"doesn't\", 'wasn', 'this', 'same', 'was', 'over', \"aren't\", 'until', 'a', 'how', 'be', 'through', 'each', 'does', 'these', 'then', 'did', 'them', 'who', \"should've\", 'after', 'in', 'd', \"isn't\", 'below', 'nor', 'than', 'yours', 'he', 'our', 'yourselves', 'ours', 'can', 'now', \"couldn't\", 'again', \"you'll\", 'aren', \"don't\", 'mustn', 's', 'its', 'they', 'him', 'been', 'with', 'your', 'are', 'mightn', 'other', 'shouldn', 'doesn', 'under', 'further', 'am', 'no', 'those', 'her', 've', 'just', 'having', 'haven', 'of', \"needn't\", 'ain', \"shan't\", 'before', 'down', 'wouldn', 'at', 'where', 'any', 'o', 't', 'didn', 'couldn', 'because'}\n"
     ]
    }
   ],
   "source": [
    "from nltk.corpus import stopwords\n",
    "stop_words = set(stopwords.words('english'))\n",
    "print(stop_words)\n"
   ]
  },
  {
   "cell_type": "code",
   "execution_count": 22,
   "metadata": {
    "colab": {
     "base_uri": "https://localhost:8080/",
     "height": 71
    },
    "colab_type": "code",
    "id": "_PUE91OuRnBN",
    "outputId": "3755e48b-e342-4508-e245-4a579b1ba6f9"
   },
   "outputs": [],
   "source": [
    "filtered_word = []\n",
    "for word in tokenized_word:\n",
    "  if word not in stop_words:\n",
    "    filtered_word.append(word)\n",
    "    "
   ]
  },
  {
   "cell_type": "markdown",
   "metadata": {
    "colab_type": "text",
    "id": "qiYg3aWPS1Ce"
   },
   "source": [
    "Stemming the word"
   ]
  },
  {
   "cell_type": "code",
   "execution_count": 23,
   "metadata": {
    "colab": {},
    "colab_type": "code",
    "id": "hgPLHUh7SzdL"
   },
   "outputs": [
    {
     "name": "stdout",
     "output_type": "stream",
     "text": [
      "think\n",
      "felt\n",
      "ask\n",
      "challeng\n",
      "devot\n"
     ]
    }
   ],
   "source": [
    "from nltk.stem import PorterStemmer\n",
    "\n",
    "ps = PorterStemmer()\n",
    "\n",
    "stemmed_words = []\n",
    "for w in filtered_word:\n",
    "  stemmed_words.append(ps.stem(w))\n",
    "\n",
    "#See how stemming works\n",
    "for word in ['thinking', 'felt', 'asked','challenging','devoted']:\n",
    "    print(ps.stem(word))\n"
   ]
  },
  {
   "cell_type": "markdown",
   "metadata": {
    "colab_type": "text",
    "id": "RB4OQY5QWtTt"
   },
   "source": [
    "Try with lemmatization and compare it with stemming"
   ]
  },
  {
   "cell_type": "code",
   "execution_count": 24,
   "metadata": {
    "colab": {},
    "colab_type": "code",
    "id": "s2Dy_Tk_Wdts"
   },
   "outputs": [],
   "source": [
    "from nltk.stem.wordnet import WordNetLemmatizer\n",
    "lem = WordNetLemmatizer()\n"
   ]
  },
  {
   "cell_type": "code",
   "execution_count": 25,
   "metadata": {
    "colab": {},
    "colab_type": "code",
    "id": "G7H7ikoFWmun"
   },
   "outputs": [],
   "source": [
    "lem_words = []\n",
    "for w in filtered_word:\n",
    "  lem_words.append(lem.lemmatize(w,'v'))\n",
    "  "
   ]
  },
  {
   "cell_type": "code",
   "execution_count": 26,
   "metadata": {
    "colab": {
     "base_uri": "https://localhost:8080/",
     "height": 88
    },
    "colab_type": "code",
    "id": "WeE69u0lXgb2",
    "outputId": "30fea898-8ac8-4317-d93b-0b15137d9b82"
   },
   "outputs": [
    {
     "name": "stdout",
     "output_type": "stream",
     "text": [
      "think\n",
      "felt\n",
      "ask\n",
      "challenge\n",
      "devote\n"
     ]
    }
   ],
   "source": [
    "for word in ['thinking', 'felt', 'asked','challenging','devoted']:\n",
    "    print(lem.lemmatize(word,'v'))\n"
   ]
  },
  {
   "cell_type": "code",
   "execution_count": 27,
   "metadata": {
    "colab": {
     "base_uri": "https://localhost:8080/",
     "height": 34
    },
    "colab_type": "code",
    "id": "A0EMSu9MRAtq",
    "outputId": "190567da-cba3-49e4-9501-831e0199380a"
   },
   "outputs": [],
   "source": [
    "from nltk.probability import FreqDist\n",
    "fdist = FreqDist(lem_words)\n"
   ]
  },
  {
   "cell_type": "code",
   "execution_count": 28,
   "metadata": {
    "colab": {
     "base_uri": "https://localhost:8080/",
     "height": 357
    },
    "colab_type": "code",
    "id": "u7YZku0rRGF1",
    "outputId": "4528ebcb-5a63-48c1-d213-eb2f350596e0"
   },
   "outputs": [
    {
     "data": {
      "text/plain": [
       "[('food', 24),\n",
       " ('drink', 22),\n",
       " ('think', 19),\n",
       " ('one', 15),\n",
       " ('know', 15),\n",
       " ('try', 14),\n",
       " ('get', 13),\n",
       " ('want', 12),\n",
       " ('wrong', 10),\n",
       " ('make', 10),\n",
       " ('like', 9),\n",
       " ('body', 9),\n",
       " ('eat', 8),\n",
       " ('go', 8),\n",
       " ('tell', 8),\n",
       " ('problem', 8),\n",
       " ('time', 8),\n",
       " ('life', 7),\n",
       " ('things', 7),\n",
       " ('find', 7)]"
      ]
     },
     "execution_count": 28,
     "metadata": {},
     "output_type": "execute_result"
    }
   ],
   "source": [
    "most_common = fdist.most_common(20)\n",
    "most_common\n"
   ]
  },
  {
   "cell_type": "code",
   "execution_count": 29,
   "metadata": {},
   "outputs": [
    {
     "name": "stdout",
     "output_type": "stream",
     "text": [
      "Requirement already satisfied: matplotlib in ./opt/anaconda3/lib/python3.7/site-packages (3.1.1)\n",
      "Requirement already satisfied: cycler>=0.10 in ./opt/anaconda3/lib/python3.7/site-packages (from matplotlib) (0.10.0)\n",
      "Requirement already satisfied: kiwisolver>=1.0.1 in ./opt/anaconda3/lib/python3.7/site-packages (from matplotlib) (1.1.0)\n",
      "Requirement already satisfied: pyparsing!=2.0.4,!=2.1.2,!=2.1.6,>=2.0.1 in ./opt/anaconda3/lib/python3.7/site-packages (from matplotlib) (2.4.2)\n",
      "Requirement already satisfied: python-dateutil>=2.1 in ./opt/anaconda3/lib/python3.7/site-packages (from matplotlib) (2.8.0)\n",
      "Requirement already satisfied: numpy>=1.11 in ./opt/anaconda3/lib/python3.7/site-packages (from matplotlib) (1.17.2)\n",
      "Requirement already satisfied: six in ./opt/anaconda3/lib/python3.7/site-packages (from cycler>=0.10->matplotlib) (1.12.0)\n",
      "Requirement already satisfied: setuptools in ./opt/anaconda3/lib/python3.7/site-packages (from kiwisolver>=1.0.1->matplotlib) (41.4.0)\n",
      "Note: you may need to restart the kernel to use updated packages.\n"
     ]
    }
   ],
   "source": [
    "pip install matplotlib\n"
   ]
  },
  {
   "cell_type": "code",
   "execution_count": 30,
   "metadata": {
    "colab": {},
    "colab_type": "code",
    "id": "ydnDtT-oRJXz"
   },
   "outputs": [],
   "source": [
    "import matplotlib.pyplot as plt\n"
   ]
  },
  {
   "cell_type": "code",
   "execution_count": 31,
   "metadata": {
    "colab": {
     "base_uri": "https://localhost:8080/",
     "height": 357
    },
    "colab_type": "code",
    "id": "5OKnbcnLamdD",
    "outputId": "7dd1bfb0-f39f-4368-a2a1-6556be4ddeea"
   },
   "outputs": [
    {
     "data": {
      "text/plain": [
       "Text(0, 0.5, 'Frequency')"
      ]
     },
     "execution_count": 31,
     "metadata": {},
     "output_type": "execute_result"
    },
    {
     "data": {
      "image/png": "[encoded data removed]",
      "text/plain": [
       "<Figure size 1440x360 with 1 Axes>"
      ]
     },
     "metadata": {
      "needs_background": "light"
     },
     "output_type": "display_data"
    }
   ],
   "source": [
    "plt.figure(figsize=(20,5))\n",
    "plt.plot([word[0] for word in most_common], [word[1] for word in most_common])\n",
    "plt.xlabel('Words')\n",
    "plt.ylabel('Frequency')"
   ]
  },
  {
   "cell_type": "code",
   "execution_count": null,
   "metadata": {},
   "outputs": [],
   "source": []
  }
 ],
 "metadata": {
  "colab": {
   "collapsed_sections": [],
   "name": "Natural Language Processing.ipynb",
   "provenance": []
  },
  "kernelspec": {
   "display_name": "Python 3",
   "language": "python",
   "name": "python3"
  },
  "language_info": {
   "codemirror_mode": {
    "name": "ipython",
    "version": 3
   },
   "file_extension": ".py",
   "mimetype": "text/x-python",
   "name": "python",
   "nbconvert_exporter": "python",
   "pygments_lexer": "ipython3",
   "version": "3.7.4"
  }
 },
 "nbformat": 4,
 "nbformat_minor": 1
}
